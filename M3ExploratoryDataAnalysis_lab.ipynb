{
  "cells": [
    {
      "cell_type": "markdown",
      "metadata": {
        "id": "kDlr7JfomaCE"
      },
      "source": [
        "<p style=\"text-align:center\">\n",
        "    <a href=\"https://skills.network/?utm_medium=Exinfluencer&utm_source=Exinfluencer&utm_content=000026UJ&utm_term=10006555&utm_id=NA-SkillsNetwork-Channel-SkillsNetworkCoursesIBMDA0321ENSkillsNetwork928-2023-01-01\">\n",
        "    <img src=\"https://cf-courses-data.s3.us.cloud-object-storage.appdomain.cloud/assets/logos/SN_web_lightmode.png\" width=\"200\" alt=\"Skills Network Logo\"  />\n",
        "    </a>\n",
        "</p>\n"
      ]
    },
    {
      "cell_type": "markdown",
      "metadata": {
        "id": "pfwm6jVamaCL"
      },
      "source": [
        "# **Exploratory Data Analysis Lab**\n"
      ]
    },
    {
      "cell_type": "markdown",
      "metadata": {
        "id": "yPstQu-ymaCN"
      },
      "source": [
        "Estimated time needed: **30** minutes\n"
      ]
    },
    {
      "cell_type": "markdown",
      "metadata": {
        "id": "Rj-E2dermaCN"
      },
      "source": [
        "In this module you get to work with the cleaned dataset from the previous module.\n",
        "\n",
        "In this assignment you will perform the task of exploratory data analysis.\n",
        "You will find out the distribution of data, presence of outliers and also determine the correlation between different columns in the dataset.\n"
      ]
    },
    {
      "cell_type": "markdown",
      "metadata": {
        "id": "1FrduoI2maCO"
      },
      "source": [
        "## Objectives\n"
      ]
    },
    {
      "cell_type": "markdown",
      "metadata": {
        "id": "QhowT-mgmaCP"
      },
      "source": [
        "In this lab you will perform the following:\n"
      ]
    },
    {
      "cell_type": "markdown",
      "metadata": {
        "id": "05jvGLe_maCP"
      },
      "source": [
        "-   Identify the distribution of data in the dataset.\n",
        "\n",
        "-   Identify outliers in the dataset.\n",
        "\n",
        "-   Remove outliers from the dataset.\n",
        "\n",
        "-   Identify correlation between features in the dataset.\n"
      ]
    },
    {
      "cell_type": "markdown",
      "metadata": {
        "id": "8I9l9pbpmaCQ"
      },
      "source": [
        "* * *\n"
      ]
    },
    {
      "cell_type": "markdown",
      "metadata": {
        "id": "ocVelHNbmaCR"
      },
      "source": [
        "## Hands on Lab\n"
      ]
    },
    {
      "cell_type": "markdown",
      "metadata": {
        "id": "yA1X8l_LmaCS"
      },
      "source": [
        "Import the pandas module.\n"
      ]
    },
    {
      "cell_type": "code",
      "execution_count": null,
      "metadata": {
        "id": "XMArlt_ImaCT"
      },
      "outputs": [],
      "source": [
        "import pandas as pd"
      ]
    },
    {
      "cell_type": "markdown",
      "metadata": {
        "id": "dAQjTpAHmaCV"
      },
      "source": [
        "Load the dataset into a dataframe.\n"
      ]
    },
    {
      "cell_type": "code",
      "execution_count": null,
      "metadata": {
        "id": "g7L8Wo71maCW"
      },
      "outputs": [],
      "source": [
        "df = pd.read_csv(\"https://cf-courses-data.s3.us.cloud-object-storage.appdomain.cloud/IBM-DA0321EN-SkillsNetwork/LargeData/m2_survey_data.csv\")"
      ]
    },
    {
      "cell_type": "markdown",
      "metadata": {
        "id": "gXP9Ig6pmaCX"
      },
      "source": [
        "## Distribution\n"
      ]
    },
    {
      "cell_type": "markdown",
      "metadata": {
        "id": "9-_pzsozmaCY"
      },
      "source": [
        "### Determine how the data is distributed\n"
      ]
    },
    {
      "cell_type": "markdown",
      "metadata": {
        "id": "KkaW4ZBBmaCY"
      },
      "source": [
        "The column `ConvertedComp` contains Salary converted to annual USD salaries using the exchange rate on 2019-02-01.\n",
        "\n",
        "This assumes 12 working months and 50 working weeks.\n"
      ]
    },
    {
      "cell_type": "markdown",
      "metadata": {
        "id": "hNv5VgLwmaCZ"
      },
      "source": [
        "Plot the distribution curve for the column `ConvertedComp`.\n"
      ]
    },
    {
      "cell_type": "code",
      "execution_count": null,
      "metadata": {
        "colab": {
          "base_uri": "https://localhost:8080/",
          "height": 506
        },
        "id": "Z7tWSVllmaCZ",
        "outputId": "2d96b4eb-3f13-4db7-9634-986c70d6011f"
      },
      "outputs": [
        {
          "output_type": "display_data",
          "data": {
            "text/plain": [
              "<Figure size 500x500 with 1 Axes>"
            ],
            "image/png": "[encoded data removed]"
          },
          "metadata": {}
        }
      ],
      "source": [
        "# your code goes here\n",
        "# Import the necessary libraries\n",
        "import matplotlib.pyplot as plt\n",
        "import seaborn as sns\n",
        "\n",
        "# Plot the distribution curve\n",
        "sns.displot(df['ConvertedComp'], kind=\"kde\")\n",
        "plt.show()\n"
      ]
    },
    {
      "cell_type": "markdown",
      "metadata": {
        "id": "VUKAaMvomaCa"
      },
      "source": [
        "Plot the histogram for the column `ConvertedComp`.\n"
      ]
    },
    {
      "cell_type": "code",
      "execution_count": null,
      "metadata": {
        "colab": {
          "base_uri": "https://localhost:8080/",
          "height": 472
        },
        "id": "HAGcuLtDmaCa",
        "outputId": "2662acd4-0723-4d4d-8248-851ff82bb65e"
      },
      "outputs": [
        {
          "output_type": "display_data",
          "data": {
            "text/plain": [
              "<Figure size 640x480 with 1 Axes>"
            ],
            "image/png": "[encoded data removed]"
          },
          "metadata": {}
        }
      ],
      "source": [
        "# your code goes here\n",
        "plt.hist(df['ConvertedComp'])\n",
        "plt.xlabel('Converted Compensation')\n",
        "plt.ylabel('Frequency')\n",
        "plt.title('Histogram of Converted Compensation')\n",
        "plt.show()\n"
      ]
    },
    {
      "cell_type": "markdown",
      "metadata": {
        "id": "_jl2-H12maCb"
      },
      "source": [
        "What is the median of the column `ConvertedComp`?\n"
      ]
    },
    {
      "cell_type": "code",
      "execution_count": null,
      "metadata": {
        "colab": {
          "base_uri": "https://localhost:8080/"
        },
        "id": "QkFbl-SSmaCc",
        "outputId": "42ad928c-9536-4342-d733-476cd0006558"
      },
      "outputs": [
        {
          "output_type": "stream",
          "name": "stdout",
          "text": [
            "57745.0\n"
          ]
        }
      ],
      "source": [
        "# your code goes here\n",
        "# Calculate the median\n",
        "median_convertedcomp = df['ConvertedComp'].median()\n",
        "\n",
        "print(median_convertedcomp)"
      ]
    },
    {
      "cell_type": "markdown",
      "metadata": {
        "id": "TWRDzX8PmaCc"
      },
      "source": [
        "How many responders identified themselves only as a **Man**?\n"
      ]
    },
    {
      "cell_type": "code",
      "execution_count": null,
      "metadata": {
        "colab": {
          "base_uri": "https://localhost:8080/"
        },
        "id": "JH1GYKD7maCc",
        "outputId": "e6e12d86-aabb-4883-93e7-187a0c927d7e"
      },
      "outputs": [
        {
          "output_type": "stream",
          "name": "stdout",
          "text": [
            "10480\n"
          ]
        }
      ],
      "source": [
        "# your code goes here\n",
        "num_men = df[df['Gender'] == 'Man'].shape[0]\n",
        "\n",
        "print(num_men)"
      ]
    },
    {
      "cell_type": "markdown",
      "metadata": {
        "id": "Og2U0A1MmaCd"
      },
      "source": [
        "Find out the  median ConvertedComp of responders identified themselves only as a **Woman**?\n"
      ]
    },
    {
      "cell_type": "code",
      "execution_count": null,
      "metadata": {
        "colab": {
          "base_uri": "https://localhost:8080/"
        },
        "id": "XOXnaZixmaCd",
        "outputId": "7210f432-dfe2-4a9f-d36d-b8be5286f5bd"
      },
      "outputs": [
        {
          "output_type": "stream",
          "name": "stdout",
          "text": [
            "57708.0\n"
          ]
        }
      ],
      "source": [
        "# your code goes here\n",
        "# Filter the DataFrame for women and calculate the median ConvertedComp\n",
        "median_women_convertedcomp = df[df['Gender'] == 'Woman']['ConvertedComp'].median()\n",
        "\n",
        "print(median_women_convertedcomp)"
      ]
    },
    {
      "cell_type": "markdown",
      "metadata": {
        "id": "eZ_NOv8ZmaCe"
      },
      "source": [
        "Give the five number summary for the column `Age`?\n"
      ]
    },
    {
      "cell_type": "markdown",
      "metadata": {
        "id": "bjKVSykAmaCe"
      },
      "source": [
        "**Double click here for hint**.\n",
        "\n",
        "<!--\n",
        "min,q1,median,q3,max of a column are its five number summary.\n",
        "-->\n"
      ]
    },
    {
      "cell_type": "code",
      "execution_count": null,
      "metadata": {
        "colab": {
          "base_uri": "https://localhost:8080/"
        },
        "id": "0HjD94XTmaCf",
        "outputId": "c38cc0ef-aa30-4390-c3c9-2eef7f283312"
      },
      "outputs": [
        {
          "output_type": "stream",
          "name": "stdout",
          "text": [
            "min    16.0\n",
            "25%    25.0\n",
            "50%    29.0\n",
            "75%    35.0\n",
            "max    99.0\n",
            "Name: Age, dtype: float64\n"
          ]
        }
      ],
      "source": [
        "# your code goes here\n",
        "age_summary = df['Age'].describe()[['min', '25%', '50%', '75%', 'max']]\n",
        "\n",
        "print(age_summary)"
      ]
    },
    {
      "cell_type": "markdown",
      "metadata": {
        "id": "H6GXdacAmaCf"
      },
      "source": [
        "Plot a histogram of the column `Age`.\n"
      ]
    },
    {
      "cell_type": "code",
      "execution_count": null,
      "metadata": {
        "colab": {
          "base_uri": "https://localhost:8080/",
          "height": 472
        },
        "id": "e51PC-jSmaCg",
        "outputId": "a2e6926a-8713-4fcd-eba8-9e2fe991410d"
      },
      "outputs": [
        {
          "output_type": "display_data",
          "data": {
            "text/plain": [
              "<Figure size 640x480 with 1 Axes>"
            ],
            "image/png": "[encoded data removed]"
          },
          "metadata": {}
        }
      ],
      "source": [
        "# your code goes here\n",
        "# Plot the histogram of Age\n",
        "plt.hist(df['Age'])\n",
        "plt.xlabel('Age')\n",
        "plt.ylabel('Frequency')\n",
        "plt.title('Histogram of Age')\n",
        "plt.show()"
      ]
    },
    {
      "cell_type": "markdown",
      "metadata": {
        "id": "PLBAQv05maCg"
      },
      "source": [
        "## Outliers\n"
      ]
    },
    {
      "cell_type": "markdown",
      "metadata": {
        "id": "rcCSsbnzmaCh"
      },
      "source": [
        "### Finding outliers\n"
      ]
    },
    {
      "cell_type": "markdown",
      "metadata": {
        "id": "nj8VcyvNmaCh"
      },
      "source": [
        "Find out if outliers exist in the column `ConvertedComp` using a box plot?\n"
      ]
    },
    {
      "cell_type": "code",
      "execution_count": null,
      "metadata": {
        "colab": {
          "base_uri": "https://localhost:8080/",
          "height": 472
        },
        "id": "TyOILriHmaCi",
        "outputId": "471f7b63-7d74-49f3-9810-125a00e96725"
      },
      "outputs": [
        {
          "output_type": "display_data",
          "data": {
            "text/plain": [
              "<Figure size 640x480 with 1 Axes>"
            ],
            "image/png": "[encoded data removed]"
          },
          "metadata": {}
        }
      ],
      "source": [
        "# your code goes here\n",
        "import seaborn as sns\n",
        "\n",
        "# Create a box plot for 'ConvertedComp'\n",
        "sns.boxplot(x=df['Age'])\n",
        "plt.xlabel('Converted Compensation')\n",
        "plt.title('Box Plot of Converted Compensation')\n",
        "plt.show()\n"
      ]
    },
    {
      "cell_type": "markdown",
      "metadata": {
        "id": "MUVybNv7maCj"
      },
      "source": [
        "Find out the Inter Quartile Range for the column `ConvertedComp`.\n"
      ]
    },
    {
      "cell_type": "code",
      "execution_count": null,
      "metadata": {
        "colab": {
          "base_uri": "https://localhost:8080/"
        },
        "id": "mg333QAdmaCj",
        "outputId": "f15fff4e-0020-4c77-edbe-47cce303b37e"
      },
      "outputs": [
        {
          "output_type": "stream",
          "name": "stdout",
          "text": [
            "73132.0\n"
          ]
        }
      ],
      "source": [
        "# your code goes here\n",
        "Q1 = df['ConvertedComp'].quantile(0.25)\n",
        "Q3 = df['ConvertedComp'].quantile(0.75)\n",
        "IQR = Q3 - Q1\n",
        "\n",
        "print(IQR)"
      ]
    },
    {
      "cell_type": "markdown",
      "metadata": {
        "id": "UrVErqVLmaCk"
      },
      "source": [
        "Find out the upper and lower bounds.\n"
      ]
    },
    {
      "cell_type": "code",
      "execution_count": null,
      "metadata": {
        "colab": {
          "base_uri": "https://localhost:8080/"
        },
        "id": "fcSPH3nimaCl",
        "outputId": "de4e582d-aa60-4499-d4c2-51aa5c8ea552"
      },
      "outputs": [
        {
          "output_type": "stream",
          "name": "stdout",
          "text": [
            "Lower Bound: -82830.0\n",
            "Upper Bound: 209698.0\n"
          ]
        }
      ],
      "source": [
        "# your code goes here\n",
        "# Calculate the lower and upper bounds for outlier detection\n",
        "lower_bound = Q1 - 1.5 * IQR\n",
        "upper_bound = Q3 + 1.5 * IQR\n",
        "\n",
        "print(\"Lower Bound:\", lower_bound)\n",
        "print(\"Upper Bound:\", upper_bound)"
      ]
    },
    {
      "cell_type": "markdown",
      "metadata": {
        "id": "nVjWQx4QmaCm"
      },
      "source": [
        "Identify how many outliers are there in the `ConvertedComp` column.\n"
      ]
    },
    {
      "cell_type": "code",
      "execution_count": null,
      "metadata": {
        "colab": {
          "base_uri": "https://localhost:8080/"
        },
        "id": "PRFOz0vxmaCm",
        "outputId": "8f3ac76e-277d-4092-c098-fc7fd37e721d"
      },
      "outputs": [
        {
          "output_type": "stream",
          "name": "stdout",
          "text": [
            "Number of outliers: 879\n"
          ]
        }
      ],
      "source": [
        "# your code goes here\n",
        "# Identify outliers in 'ConvertedComp'\n",
        "outliers = df[(df['ConvertedComp'] < lower_bound) | (df['ConvertedComp'] > upper_bound)]\n",
        "num_outliers = outliers.shape[0]\n",
        "\n",
        "print(\"Number of outliers:\", num_outliers)"
      ]
    },
    {
      "cell_type": "markdown",
      "metadata": {
        "id": "rHMXc7zhmaCn"
      },
      "source": [
        "Create a new dataframe by removing the outliers from the `ConvertedComp` column.\n"
      ]
    },
    {
      "cell_type": "code",
      "execution_count": null,
      "metadata": {
        "id": "RITWYF-xmaCn"
      },
      "outputs": [],
      "source": [
        "# your code goes here\n",
        "# Create a new DataFrame without outliers\n",
        "df_no_outliers = df[(df['ConvertedComp'] >= lower_bound) & (df['ConvertedComp'] <= upper_bound)]"
      ]
    },
    {
      "cell_type": "markdown",
      "metadata": {
        "id": "DvucDAsAmaCn"
      },
      "source": [
        "## Correlation\n"
      ]
    },
    {
      "cell_type": "markdown",
      "metadata": {
        "id": "W38iqS4gmaCo"
      },
      "source": [
        "### Finding correlation\n"
      ]
    },
    {
      "cell_type": "markdown",
      "metadata": {
        "id": "C-xUxf76maCo"
      },
      "source": [
        "Find the correlation between `Age` and all other numerical columns.\n"
      ]
    },
    {
      "cell_type": "code",
      "execution_count": null,
      "metadata": {
        "colab": {
          "base_uri": "https://localhost:8080/"
        },
        "id": "77jbnFWUmaCo",
        "outputId": "260c6637-fc28-4497-8571-a0ab48d8f743"
      },
      "outputs": [
        {
          "output_type": "stream",
          "name": "stdout",
          "text": [
            "Respondent       0.004041\n",
            "CompTotal        0.006970\n",
            "ConvertedComp    0.105386\n",
            "WorkWeekHrs      0.036518\n",
            "CodeRevHrs      -0.020469\n",
            "Age              1.000000\n",
            "Name: Age, dtype: float64\n"
          ]
        }
      ],
      "source": [
        "# your code goes here\n",
        "# Calculate the correlation between 'Age' and other numerical columns\n",
        "age_correlation = df.corr(numeric_only=True)['Age']\n",
        "\n",
        "print(age_correlation)"
      ]
    },
    {
      "cell_type": "markdown",
      "metadata": {
        "id": "o1C13bB1maCp"
      },
      "source": [
        "## Authors\n"
      ]
    },
    {
      "cell_type": "markdown",
      "metadata": {
        "id": "nYJmWNSgmaCp"
      },
      "source": [
        "Ramesh Sannareddy\n"
      ]
    },
    {
      "cell_type": "markdown",
      "metadata": {
        "id": "c82jdVzKmaCp"
      },
      "source": [
        "### Other Contributors\n"
      ]
    },
    {
      "cell_type": "markdown",
      "metadata": {
        "id": "UCY-fQZsmaCq"
      },
      "source": [
        "Rav Ahuja\n"
      ]
    },
    {
      "cell_type": "markdown",
      "metadata": {
        "id": "p0w4cmwJmaCq"
      },
      "source": [
        "## Change Log\n"
      ]
    },
    {
      "cell_type": "markdown",
      "metadata": {
        "id": "7k7JuGpYmaCq"
      },
      "source": [
        "| Date (YYYY-MM-DD) | Version | Changed By        | Change Description                 |\n",
        "| ----------------- | ------- | ----------------- | ---------------------------------- |\n",
        "| 2020-10-17        | 0.1     | Ramesh Sannareddy | Created initial version of the lab |\n"
      ]
    },
    {
      "cell_type": "markdown",
      "metadata": {
        "id": "m18oRGXzmaCr"
      },
      "source": [
        " Copyright © 2020 IBM Corporation. This notebook and its source code are released under the terms of the [MIT License](https://cognitiveclass.ai/mit-license?utm_medium=Exinfluencer&utm_source=Exinfluencer&utm_content=000026UJ&utm_term=10006555&utm_id=NA-SkillsNetwork-Channel-SkillsNetworkCoursesIBMDA0321ENSkillsNetwork928-2023-01-01&cm_mmc=Email_Newsletter-_-Developer_Ed%2BTech-_-WW_WW-_-SkillsNetwork-Courses-IBM-DA0321EN-SkillsNetwork-21426264&cm_mmca1=000026UJ&cm_mmca2=10006555&cm_mmca3=M12345678&cvosrc=email.Newsletter.M12345678&cvo_campaign=000026UJ).\n"
      ]
    }
  ],
  "metadata": {
    "kernelspec": {
      "display_name": "Python",
      "language": "python",
      "name": "conda-env-python-py"
    },
    "language_info": {
      "name": ""
    },
    "colab": {
      "provenance": []
    }
  },
  "nbformat": 4,
  "nbformat_minor": 0
}